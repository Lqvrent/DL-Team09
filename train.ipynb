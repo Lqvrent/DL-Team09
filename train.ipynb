{
 "cells": [
  {
   "cell_type": "code",
   "execution_count": 1,
   "id": "bdcf6d1e",
   "metadata": {},
   "outputs": [],
   "source": [
    "import os\n",
    "import torch\n",
    "import random\n",
    "import tqdm\n",
    "import time\n",
    "from PIL import Image\n",
    "from torch import nn, optim\n",
    "from torch.utils.data import Dataset, DataLoader\n",
    "from torchvision import transforms, models\n",
    "from torchvision.models import ResNet18_Weights\n",
    "import matplotlib.pyplot as plt\n",
    "import numpy as np\n"
   ]
  },
  {
   "cell_type": "code",
   "execution_count": 2,
   "id": "a7b57a4d",
   "metadata": {},
   "outputs": [
    {
     "name": "stdout",
     "output_type": "stream",
     "text": [
      "Using mps device\n",
      "Seed set to 16\n"
     ]
    }
   ],
   "source": [
    "# Hyper parameters\n",
    "epochs = 10\n",
    "lr = 1e-4\n",
    "batch_size = 64\n",
    "num_classes = 14 # Should NOT be changed\n",
    "default_weights = ResNet18_Weights.IMAGENET1K_V1\n",
    "\n",
    "transform = transforms.Compose([\n",
    "    transforms.Resize((224, 224)),\n",
    "    transforms.Grayscale(num_output_channels=3), # 3 channel grayscale, some images are 1 channel\n",
    "    transforms.RandomHorizontalFlip(),\n",
    "    transforms.ToTensor(),\n",
    "])\n",
    "\n",
    "device = torch.device(\"cuda\" if torch.cuda.is_available() else \"mps\")\n",
    "print(f\"Using {device} device\")\n",
    "\n",
    "seed = 16\n",
    "np.random.seed(seed)\n",
    "random.seed(seed)\n",
    "torch.manual_seed(seed)\n",
    "torch.cuda.manual_seed(seed)\n",
    "print(f\"Seed set to {seed}\")\n"
   ]
  },
  {
   "cell_type": "code",
   "execution_count": 3,
   "id": "443e74b5",
   "metadata": {},
   "outputs": [],
   "source": [
    "class MyDataset(Dataset):\n",
    "    def __init__(self, csv_file, transform=None):\n",
    "        self.csv_file = csv_file\n",
    "        self.transform = transform\n",
    "        self.data = self.load_data()\n",
    "\n",
    "    def __len__(self):\n",
    "        return len(self.data)\n",
    "\n",
    "    def __getitem__(self, index):\n",
    "        image_path, category = self.data[index]\n",
    "        image = Image.open(image_path)\n",
    "        if self.transform:\n",
    "            image = self.transform(image)\n",
    "        return image, category\n",
    "\n",
    "    def load_data(self):\n",
    "        data = []\n",
    "        with open(self.csv_file, 'r') as file:\n",
    "            lines = file.readlines()\n",
    "            for line in lines[1:]:\n",
    "                image_path, category = line.strip().split(',')\n",
    "                image_path = os.path.join('dataset', image_path)\n",
    "                data.append((image_path, int(category)))\n",
    "        return data\n",
    "\n",
    "    def get_category_name(self, category):\n",
    "        # get a human readable category name\n",
    "        category_name = None\n",
    "        for image_path, cat in self.data:\n",
    "            if cat == category:\n",
    "                category_name = image_path.split('/')[-2]\n",
    "                break\n",
    "        return category_name\n"
   ]
  },
  {
   "cell_type": "code",
   "execution_count": 4,
   "id": "23a6a979",
   "metadata": {},
   "outputs": [
    {
     "name": "stdout",
     "output_type": "stream",
     "text": [
      "Val dataset size:    98\n",
      "Train dataset size:  13642\n",
      "  carnation          924\n",
      "  iris               1041\n",
      "  bellflower         872\n",
      "  california_poppy   1021\n",
      "  rose               986\n",
      "  astilbe            726\n",
      "  tulip              1034\n",
      "  calendula          1011\n",
      "  dandelion          1038\n",
      "  coreopsis          1035\n",
      "  black_eyed_susan   986\n",
      "  water_lily         977\n",
      "  sunflower          1013\n",
      "  common_daisy       978\n"
     ]
    }
   ],
   "source": [
    "# Load train data and validation data\n",
    "train_dataset = MyDataset(csv_file='./dataset/train.csv', transform=transform)\n",
    "train_dataloader = DataLoader(train_dataset, batch_size=batch_size, shuffle=True)\n",
    "\n",
    "val_dataset = MyDataset(csv_file='./dataset/val.csv', transform=transform)\n",
    "val_dataloader = DataLoader(val_dataset, batch_size=batch_size, shuffle=False)\n",
    "\n",
    "print(\"Val dataset size:   \", len(val_dataset))\n",
    "print(\"Train dataset size: \", len(train_dataset))\n",
    "for i in range(14):\n",
    "    category_name = train_dataset.get_category_name(i)\n",
    "    count = len([x for x in train_dataset.data if x[1] == i])\n",
    "    print(f\"  {category_name.ljust(18)} {count}\")\n"
   ]
  },
  {
   "cell_type": "code",
   "execution_count": 5,
   "id": "a07beca3",
   "metadata": {},
   "outputs": [],
   "source": [
    "net = models.resnet18(weights=default_weights)\n",
    "net.fc = nn.Linear(512, num_classes)\n",
    "net = net.to(device)\n",
    "\n",
    "criterion = nn.CrossEntropyLoss()\n",
    "optimizer = optim.Adam(net.parameters(), lr=lr)\n"
   ]
  },
  {
   "cell_type": "code",
   "execution_count": 6,
   "id": "9120e0ae",
   "metadata": {},
   "outputs": [
    {
     "name": "stderr",
     "output_type": "stream",
     "text": [
      "Train - Epoch 1: 100%|██████████| 214/214 [01:15<00:00,  2.85it/s]\n",
      "Val - Epoch 1: 100%|██████████| 2/2 [00:01<00:00,  1.40it/s]\n"
     ]
    },
    {
     "name": "stdout",
     "output_type": "stream",
     "text": [
      "Epoch 1 loss: 0.6300731374420853\n",
      "Training accuracy: 81.5496261545228%\n",
      "Validation accuracy: 82.65306122448979%\n",
      "\n"
     ]
    },
    {
     "name": "stderr",
     "output_type": "stream",
     "text": [
      "Train - Epoch 2: 100%|██████████| 214/214 [01:04<00:00,  3.31it/s]\n",
      "Val - Epoch 2: 100%|██████████| 2/2 [00:00<00:00,  8.13it/s]\n"
     ]
    },
    {
     "name": "stdout",
     "output_type": "stream",
     "text": [
      "Epoch 2 loss: 0.2274610759498917\n",
      "Training accuracy: 93.33675414162147%\n",
      "Validation accuracy: 82.65306122448979%\n",
      "\n"
     ]
    },
    {
     "name": "stderr",
     "output_type": "stream",
     "text": [
      "Train - Epoch 3: 100%|██████████| 214/214 [01:04<00:00,  3.34it/s]\n",
      "Val - Epoch 3: 100%|██████████| 2/2 [00:00<00:00,  8.00it/s]\n"
     ]
    },
    {
     "name": "stdout",
     "output_type": "stream",
     "text": [
      "Epoch 3 loss: 0.1309654082685152\n",
      "Training accuracy: 96.41548160093828%\n",
      "Validation accuracy: 88.77551020408163%\n",
      "\n"
     ]
    },
    {
     "name": "stderr",
     "output_type": "stream",
     "text": [
      "Train - Epoch 4: 100%|██████████| 214/214 [01:04<00:00,  3.33it/s]\n",
      "Val - Epoch 4: 100%|██████████| 2/2 [00:00<00:00,  8.06it/s]\n"
     ]
    },
    {
     "name": "stdout",
     "output_type": "stream",
     "text": [
      "Epoch 4 loss: 0.07257710630074143\n",
      "Training accuracy: 97.98416654449494%\n",
      "Validation accuracy: 88.77551020408163%\n",
      "\n"
     ]
    },
    {
     "name": "stderr",
     "output_type": "stream",
     "text": [
      "Train - Epoch 5: 100%|██████████| 214/214 [01:04<00:00,  3.31it/s]\n",
      "Val - Epoch 5: 100%|██████████| 2/2 [00:00<00:00,  8.00it/s]\n"
     ]
    },
    {
     "name": "stdout",
     "output_type": "stream",
     "text": [
      "Epoch 5 loss: 0.045709110176295184\n",
      "Training accuracy: 98.8418120510189%\n",
      "Validation accuracy: 88.77551020408163%\n",
      "\n"
     ]
    },
    {
     "name": "stderr",
     "output_type": "stream",
     "text": [
      "Train - Epoch 6: 100%|██████████| 214/214 [01:04<00:00,  3.32it/s]\n",
      "Val - Epoch 6: 100%|██████████| 2/2 [00:00<00:00,  7.89it/s]\n"
     ]
    },
    {
     "name": "stdout",
     "output_type": "stream",
     "text": [
      "Epoch 6 loss: 0.04032296438866826\n",
      "Training accuracy: 99.01040903093389%\n",
      "Validation accuracy: 86.73469387755102%\n",
      "\n"
     ]
    },
    {
     "name": "stderr",
     "output_type": "stream",
     "text": [
      "Train - Epoch 7: 100%|██████████| 214/214 [01:04<00:00,  3.30it/s]\n",
      "Val - Epoch 7: 100%|██████████| 2/2 [00:00<00:00,  7.78it/s]\n"
     ]
    },
    {
     "name": "stdout",
     "output_type": "stream",
     "text": [
      "Epoch 7 loss: 0.02653711807269986\n",
      "Training accuracy: 99.3915848116112%\n",
      "Validation accuracy: 88.77551020408163%\n",
      "\n"
     ]
    },
    {
     "name": "stderr",
     "output_type": "stream",
     "text": [
      "Train - Epoch 8: 100%|██████████| 214/214 [01:05<00:00,  3.27it/s]\n",
      "Val - Epoch 8: 100%|██████████| 2/2 [00:00<00:00,  7.87it/s]\n"
     ]
    },
    {
     "name": "stdout",
     "output_type": "stream",
     "text": [
      "Epoch 8 loss: 0.02439799134958988\n",
      "Training accuracy: 99.31828177686556%\n",
      "Validation accuracy: 85.71428571428571%\n",
      "\n"
     ]
    },
    {
     "name": "stderr",
     "output_type": "stream",
     "text": [
      "Train - Epoch 9: 100%|██████████| 214/214 [01:06<00:00,  3.24it/s]\n",
      "Val - Epoch 9: 100%|██████████| 2/2 [00:00<00:00,  7.09it/s]\n"
     ]
    },
    {
     "name": "stdout",
     "output_type": "stream",
     "text": [
      "Epoch 9 loss: 0.028398102286454535\n",
      "Training accuracy: 99.24497874211993%\n",
      "Validation accuracy: 84.6938775510204%\n",
      "\n"
     ]
    },
    {
     "name": "stderr",
     "output_type": "stream",
     "text": [
      "Train - Epoch 10: 100%|██████████| 214/214 [01:04<00:00,  3.31it/s]\n",
      "Val - Epoch 10: 100%|██████████| 2/2 [00:00<00:00,  7.92it/s]\n"
     ]
    },
    {
     "name": "stdout",
     "output_type": "stream",
     "text": [
      "Epoch 10 loss: 0.019480027852440688\n",
      "Training accuracy: 99.53819088110248%\n",
      "Validation accuracy: 87.75510204081633%\n",
      "\n"
     ]
    }
   ],
   "source": [
    "train_loss = []\n",
    "train_accuracy = []\n",
    "val_accuracy = []\n",
    "\n",
    "for epoch in range(epochs):\n",
    "    # Training\n",
    "    running_loss = 0.0\n",
    "    train_correct = 0\n",
    "    train_total = 0\n",
    "    data_iter = tqdm.tqdm(\n",
    "        enumerate(train_dataloader, 0),\n",
    "        desc=f\"Train - Epoch {epoch+1}\",\n",
    "        total=len(train_dataloader),\n",
    "    )\n",
    "    for i, data in data_iter:\n",
    "        inputs, labels = data[0].to(device), data[1].to(device)\n",
    "\n",
    "        optimizer.zero_grad()\n",
    "\n",
    "        outputs = net(inputs)\n",
    "        loss = criterion(outputs, labels)\n",
    "        loss.backward()\n",
    "        optimizer.step()\n",
    "\n",
    "        running_loss += loss.item()\n",
    "        _, predicted = torch.max(outputs.data, 1)\n",
    "        train_total += labels.size(0)\n",
    "        train_correct += (predicted == labels).sum().item()\n",
    "\n",
    "    train_loss.append(running_loss / len(train_dataloader))\n",
    "    train_accuracy.append(100 * train_correct / train_total)\n",
    "\n",
    "    # Validation\n",
    "    val_correct = 0\n",
    "    val_total = 0\n",
    "    data_iter = tqdm.tqdm(\n",
    "        enumerate(val_dataloader, 0),\n",
    "        desc=f\"Val - Epoch {epoch+1}\",\n",
    "        total=len(val_dataloader),\n",
    "    )\n",
    "    for i, data in data_iter:\n",
    "        inputs, labels = data[0].to(device), data[1].to(device)\n",
    "\n",
    "        outputs = net(inputs)\n",
    "        _, predicted = torch.max(outputs.data, 1)\n",
    "        val_total += labels.size(0)\n",
    "        val_correct += (predicted == labels).sum().item()\n",
    "\n",
    "    val_accuracy.append(100 * val_correct / val_total)\n",
    "\n",
    "    print(f\"Epoch {epoch + 1} loss: {train_loss[-1]}\")\n",
    "    print(f\"Training accuracy: {100 * train_correct / train_total}%\")\n",
    "    print(f\"Validation accuracy: {100 * val_correct / val_total}%\")\n",
    "    print()\n",
    "\n",
    "# Save the model as model-timestamp.pth\n",
    "torch.save(net.state_dict(), f\"./model-{int(time.time())}.pth\")\n"
   ]
  },
  {
   "cell_type": "code",
   "execution_count": 7,
   "id": "87d1b549",
   "metadata": {},
   "outputs": [
    {
     "data": {
      "image/png": "[encoded data removed]",
      "text/plain": [
       "<Figure size 1000x500 with 2 Axes>"
      ]
     },
     "metadata": {},
     "output_type": "display_data"
    }
   ],
   "source": [
    "plt.figure(figsize=(10, 5))\n",
    "plt.subplot(1, 2, 1)\n",
    "plt.plot(train_loss, label='Training loss')\n",
    "plt.xlabel('Epoch')\n",
    "plt.ylabel('Training Loss')\n",
    "plt.xlim([0, epochs - 1])\n",
    "plt.xticks(range(epochs))\n",
    "\n",
    "plt.subplot(1, 2, 2)\n",
    "plt.plot(train_accuracy, label='Training accuracy')\n",
    "plt.plot(val_accuracy, label='Validation accuracy')\n",
    "plt.legend(frameon=False)\n",
    "plt.xlabel('Epoch')\n",
    "plt.ylabel('Accuracy (%)')\n",
    "plt.ylim([0, 100])\n",
    "plt.xlim([0, epochs - 1])\n",
    "plt.xticks(range(epochs))\n",
    "\n",
    "plt.subplots_adjust(wspace=0.3)\n",
    "\n",
    "plt.show()\n"
   ]
  }
 ],
 "metadata": {
  "kernelspec": {
   "display_name": "Python 3 (ipykernel)",
   "language": "python",
   "name": "python3"
  },
  "language_info": {
   "codemirror_mode": {
    "name": "ipython",
    "version": 3
   },
   "file_extension": ".py",
   "mimetype": "text/x-python",
   "name": "python",
   "nbconvert_exporter": "python",
   "pygments_lexer": "ipython3",
   "version": "3.11.6"
  }
 },
 "nbformat": 4,
 "nbformat_minor": 5
}
