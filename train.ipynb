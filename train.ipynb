{
 "cells": [
  {
   "cell_type": "code",
   "execution_count": 30,
   "id": "bdcf6d1e",
   "metadata": {},
   "outputs": [],
   "source": [
    "import os\n",
    "import torch\n",
    "import random\n",
    "from PIL import Image\n",
    "from torch.utils.data import Dataset, DataLoader\n",
    "from torchvision import transforms\n",
    "import matplotlib.pyplot as plt\n",
    "import numpy as np\n"
   ]
  },
  {
   "cell_type": "code",
   "execution_count": 31,
   "id": "a7b57a4d",
   "metadata": {},
   "outputs": [
    {
     "name": "stdout",
     "output_type": "stream",
     "text": [
      "cpu\n"
     ]
    }
   ],
   "source": [
    "epochs = 0\n",
    "lr = 0\n",
    "batch_size = 48\n",
    "\n",
    "transform = transforms.Compose([\n",
    "    transforms.Resize((224, 224)),\n",
    "    transforms.ToTensor(),\n",
    "])\n",
    "\n",
    "device = torch.device(\"cuda\" if torch.cuda.is_available() else \"cpu\")\n",
    "print(device)\n"
   ]
  },
  {
   "cell_type": "code",
   "execution_count": 32,
   "id": "443e74b5",
   "metadata": {},
   "outputs": [],
   "source": [
    "class MyDataset(Dataset):\n",
    "    def __init__(self, csv_file, transform=None):\n",
    "        self.csv_file = csv_file\n",
    "        self.transform = transform\n",
    "        self.data = self.load_data()\n",
    "\n",
    "    def __len__(self):\n",
    "        return len(self.data)\n",
    "\n",
    "    def __getitem__(self, index):\n",
    "        image_path, category = self.data[index]\n",
    "        image = Image.open(image_path)\n",
    "        if self.transform:\n",
    "            image = self.transform(image)\n",
    "        return image, category\n",
    "\n",
    "    def load_data(self):\n",
    "        data = []\n",
    "        with open(self.csv_file, 'r') as file:\n",
    "            lines = file.readlines()\n",
    "            for line in lines[1:]:\n",
    "                image_path, category = line.strip().split(',')\n",
    "                data.append((image_path, int(category)))\n",
    "        return data\n",
    "\n",
    "    def get_category_name(self, category):\n",
    "        # get a human readable category name\n",
    "        category_name = None\n",
    "        for image_path, cat in self.data:\n",
    "            if cat == category:\n",
    "                category_name = image_path.split('/')[-2]\n",
    "                break\n",
    "        return category_name\n"
   ]
  },
  {
   "cell_type": "code",
   "execution_count": 33,
   "id": "af80475f",
   "metadata": {},
   "outputs": [],
   "source": [
    "# Class: CNN\n"
   ]
  },
  {
   "cell_type": "code",
   "execution_count": 34,
   "id": "23a6a979",
   "metadata": {},
   "outputs": [
    {
     "name": "stdout",
     "output_type": "stream",
     "text": [
      "Val dataset size:    98\n",
      "Train dataset size:  13642\n",
      "  carnation          924\n",
      "  iris               1041\n",
      "  bellflower         872\n",
      "  california_poppy   1021\n",
      "  rose               986\n",
      "  astilbe            726\n",
      "  tulip              1034\n",
      "  calendula          1011\n",
      "  dandelion          1038\n",
      "  coreopsis          1035\n",
      "  black_eyed_susan   986\n",
      "  water_lily         977\n",
      "  sunflower          1013\n",
      "  common_daisy       978\n"
     ]
    }
   ],
   "source": [
    "train_dataset = MyDataset(csv_file='./dataset/train.csv', transform=transform)\n",
    "train_dataloader = DataLoader(train_dataset, batch_size=batch_size, shuffle=True)\n",
    "\n",
    "val_dataset = MyDataset(csv_file='./dataset/val.csv', transform=transform)\n",
    "val_dataloader = DataLoader(val_dataset, batch_size=batch_size, shuffle=False)\n",
    "\n",
    "print(\"Val dataset size:   \", len(val_dataset))\n",
    "print(\"Train dataset size: \", len(train_dataset))\n",
    "for i in range(14):\n",
    "    category_name = train_dataset.get_category_name(i)\n",
    "    count = len([x for x in train_dataset.data if x[1] == i])\n",
    "    print(f\"  {category_name.ljust(18)} {count}\")\n"
   ]
  },
  {
   "cell_type": "code",
   "execution_count": 35,
   "id": "9120e0ae",
   "metadata": {},
   "outputs": [],
   "source": [
    "# Train the model\n"
   ]
  },
  {
   "cell_type": "code",
   "execution_count": 36,
   "id": "87d1b549",
   "metadata": {},
   "outputs": [],
   "source": [
    "# Show training results\n"
   ]
  },
  {
   "cell_type": "code",
   "execution_count": 37,
   "id": "610e80dc",
   "metadata": {},
   "outputs": [],
   "source": [
    "# Save the model in a file\n"
   ]
  }
 ],
 "metadata": {
  "kernelspec": {
   "display_name": "Python 3 (ipykernel)",
   "language": "python",
   "name": "python3"
  },
  "language_info": {
   "codemirror_mode": {
    "name": "ipython",
    "version": 3
   },
   "file_extension": ".py",
   "mimetype": "text/x-python",
   "name": "python",
   "nbconvert_exporter": "python",
   "pygments_lexer": "ipython3",
   "version": "3.11.6"
  }
 },
 "nbformat": 4,
 "nbformat_minor": 5
}
